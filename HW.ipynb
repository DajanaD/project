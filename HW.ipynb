{
 "cells": [
  {
   "cell_type": "code",
   "execution_count": 2,
   "metadata": {},
   "outputs": [],
   "source": [
    "import os\n",
    "import json\n",
    "import cv2\n",
    "import numpy as np\n",
    "import tensorflow as tf\n",
    "import keras\n",
    "from tensorflow.keras.preprocessing.image import ImageDataGenerator\n",
    "from tensorflow.keras.applications import MobileNetV2\n",
    "from tensorflow.keras.layers import Dense, GlobalAveragePooling2D\n",
    "from tensorflow.keras.models import Model\n"
   ]
  },
  {
   "cell_type": "code",
   "execution_count": 3,
   "metadata": {},
   "outputs": [],
   "source": [
    "# Функція для парсингу JSON і завантаження зображень поштучно\n",
    "def parse_data(json_path, images_path):\n",
    "    with open(json_path, 'r') as f:\n",
    "        data = json.load(f)\n",
    "\n",
    "    for item in data['images']:\n",
    "        img_path = os.path.join(images_path, item['file_name'])\n",
    "        image = cv2.imread(img_path)\n",
    "        image = cv2.resize(image, (224, 224))\n",
    "\n",
    "        # Створюємо one-hot вектор для категорій\n",
    "        label = np.zeros(len(data['categories']))\n",
    "        for ann in data['annotations']:\n",
    "            if ann['image_id'] == item['id']:\n",
    "                label[ann['category_id']] = 1\n",
    "\n",
    "        yield image, label\n"
   ]
  },
  {
   "cell_type": "code",
   "execution_count": 4,
   "metadata": {},
   "outputs": [],
   "source": [
    "# Функція для створення tf.data.Dataset\n",
    "def create_dataset(json_path, images_path, batch_size):\n",
    "    dataset = tf.data.Dataset.from_generator(\n",
    "        lambda: parse_data(json_path, images_path),\n",
    "        output_signature=(\n",
    "            tf.TensorSpec(shape=(224, 224, 3), dtype=tf.uint8),\n",
    "            tf.TensorSpec(shape=(3,), dtype=tf.float32)\n",
    "        )\n",
    "    )\n",
    "    dataset = dataset.batch(batch_size)\n",
    "    dataset = dataset.map(lambda x, y: (tf.cast(x, tf.float32) / 255.0, y))  # Нормалізація зображень\n",
    "    dataset = dataset.prefetch(buffer_size=tf.data.AUTOTUNE)  # Покращення продуктивності\n",
    "    return dataset"
   ]
  },
  {
   "cell_type": "code",
   "execution_count": 5,
   "metadata": {},
   "outputs": [],
   "source": [
    "# Створення наборів даних для тренування, валідації та тестування\n",
    "batch_size = 32\n",
    "\n",
    "train_dataset = create_dataset('D:/My_repo/Data_Science/project/train/_annotations.coco.json', \n",
    "                               'D:/My_repo/Data_Science/project/train', \n",
    "                               batch_size)\n",
    "\n",
    "valid_dataset = create_dataset('D:/My_repo/Data_Science/project/valid/_annotations.coco.json', \n",
    "                               'D:/My_repo/Data_Science/project/valid', \n",
    "                               batch_size)\n",
    "\n",
    "test_dataset = create_dataset('D:/My_repo/Data_Science/project/test/_annotations.coco.json', \n",
    "                              'D:/My_repo/Data_Science/project/test', \n",
    "                              batch_size)"
   ]
  },
  {
   "cell_type": "code",
   "execution_count": 6,
   "metadata": {},
   "outputs": [],
   "source": [
    "# Кількість класів\n",
    "num_classes = 3\n",
    "\n",
    "# Створення базової моделі\n",
    "base_model = tf.keras.applications.MobileNetV2(input_shape=(224, 224, 3), include_top=False, weights='imagenet')\n",
    "\n",
    "# Додавання глобального шару агрегації та повнозв'язного шару\n",
    "x = base_model.output\n",
    "x = tf.keras.layers.GlobalAveragePooling2D()(x)\n",
    "x = tf.keras.layers.Dense(1024, activation='relu')(x)\n",
    "predictions = tf.keras.layers.Dense(num_classes, activation='softmax')(x)\n",
    "\n"
   ]
  },
  {
   "cell_type": "code",
   "execution_count": 7,
   "metadata": {},
   "outputs": [],
   "source": [
    "# Створення моделі\n",
    "model = tf.keras.models.Model(inputs=base_model.input, outputs=predictions)"
   ]
  },
  {
   "cell_type": "code",
   "execution_count": 8,
   "metadata": {},
   "outputs": [],
   "source": [
    "# Заморожування базових шарів\n",
    "for layer in base_model.layers:\n",
    "    layer.trainable = False"
   ]
  },
  {
   "cell_type": "code",
   "execution_count": 9,
   "metadata": {},
   "outputs": [],
   "source": [
    "# Компіляція моделі\n",
    "model.compile(optimizer='adam', loss='categorical_crossentropy', metrics=['accuracy'])"
   ]
  },
  {
   "cell_type": "code",
   "execution_count": 10,
   "metadata": {},
   "outputs": [],
   "source": [
    "# Визначення кількості кроків на епоху\n",
    "train_steps_per_epoch = len(os.listdir('D:/My_repo/Data_Science/project/train')) // batch_size\n",
    "valid_steps_per_epoch = len(os.listdir('D:/My_repo/Data_Science/project/valid')) // batch_size"
   ]
  },
  {
   "cell_type": "code",
   "execution_count": 11,
   "metadata": {},
   "outputs": [
    {
     "name": "stdout",
     "output_type": "stream",
     "text": [
      "Epoch 1/10\n",
      "\u001b[1m 53/271\u001b[0m \u001b[32m━━━\u001b[0m\u001b[37m━━━━━━━━━━━━━━━━━\u001b[0m \u001b[1m13:26\u001b[0m 4s/step - accuracy: 0.6294 - loss: 1.2393"
     ]
    }
   ],
   "source": [
    "# Тренування моделі\n",
    "model.fit(train_dataset, validation_data=valid_dataset, epochs=10, steps_per_epoch=train_steps_per_epoch, validation_steps=valid_steps_per_epoch)"
   ]
  },
  {
   "cell_type": "code",
   "execution_count": null,
   "metadata": {},
   "outputs": [],
   "source": [
    "# Оцінка точності на тестовому наборі\n",
    "loss, accuracy = model.evaluate(test_dataset)\n",
    "print(f'Втрата на тестовому наборі: {loss:.4f}')\n",
    "print(f'Точність на тестовому наборі: {accuracy:.4f}')"
   ]
  }
 ],
 "metadata": {
  "kernelspec": {
   "display_name": "Python 3",
   "language": "python",
   "name": "python3"
  },
  "language_info": {
   "codemirror_mode": {
    "name": "ipython",
    "version": 3
   },
   "file_extension": ".py",
   "mimetype": "text/x-python",
   "name": "python",
   "nbconvert_exporter": "python",
   "pygments_lexer": "ipython3",
   "version": "3.11.3"
  }
 },
 "nbformat": 4,
 "nbformat_minor": 2
}
